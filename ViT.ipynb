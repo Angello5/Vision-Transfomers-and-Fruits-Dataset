{
 "cells": [
  {
   "cell_type": "code",
   "execution_count": null,
   "id": "0e142789",
   "metadata": {},
   "outputs": [],
   "source": []
  }
 ],
 "metadata": {
  "kernelspec": {
   "display_name": "Vit",
   "language": "python",
   "name": "python3"
  },
  "language_info": {
   "name": "python",
   "version": "3.10.18"
  }
 },
 "nbformat": 4,
 "nbformat_minor": 5
}
